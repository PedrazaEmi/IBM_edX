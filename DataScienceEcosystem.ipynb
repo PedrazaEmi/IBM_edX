{
 "cells": [
  {
   "cell_type": "markdown",
   "id": "e02d3e8f",
   "metadata": {},
   "source": [
    "# Data Science Tools and Ecosystem\n"
   ]
  },
  {
   "cell_type": "markdown",
   "id": "c4e4c562",
   "metadata": {},
   "source": [
    "This is a notebook to complete Module 6's assignment."
   ]
  },
  {
   "cell_type": "markdown",
   "id": "514033cf",
   "metadata": {},
   "source": [
    "**Objectives:**\n",
    "- To remember the most commonly used languages in Data Science.\n",
    "- To remember commonly used libraries for Data Science.\n",
    "- To write different forms of text in Markdown.\n",
    "- To use Python's mathematical expressions."
   ]
  },
  {
   "cell_type": "markdown",
   "id": "39d69d92",
   "metadata": {},
   "source": [
    "Nowadays, the most commonly used languages in Data Science are:"
   ]
  },
  {
   "cell_type": "markdown",
   "id": "45f2024c",
   "metadata": {},
   "source": [
    "1. Python\n",
    "2. R\n",
    "3. Java\n",
    "4. SQL"
   ]
  },
  {
   "cell_type": "markdown",
   "id": "ae740492",
   "metadata": {},
   "source": [
    "On the other hand, commonly used Libraries (in R in particular) for Data Science are:\n",
    "1. dplyr = Data Manipulation\n",
    "2. dtringr = String Manipulation\n",
    "3. ggplot= Data Visualization\n",
    "4. caret = Machine Learning"
   ]
  },
  {
   "cell_type": "markdown",
   "id": "3c81152e",
   "metadata": {},
   "source": [
    "|Data Science Tools |\n",
    "|-------------------|\n",
    "|RStudio            |\n",
    "|Apache Spark       |\n",
    "|TensorFlow         |"
   ]
  },
  {
   "cell_type": "markdown",
   "id": "4e4b3411",
   "metadata": {},
   "source": [
    "### Now we present a few examples of evaluating arithmetic expressions in Python:"
   ]
  },
  {
   "cell_type": "code",
   "execution_count": 1,
   "id": "00a23b9b",
   "metadata": {},
   "outputs": [
    {
     "data": {
      "text/plain": [
       "17"
      ]
     },
     "execution_count": 1,
     "metadata": {},
     "output_type": "execute_result"
    }
   ],
   "source": [
    "#The following arithmetic expression is a simple procedure to showcase Python's way of doing math:\n",
    "(3*4)+5 "
   ]
  },
  {
   "cell_type": "code",
   "execution_count": 2,
   "id": "6e59b50a",
   "metadata": {},
   "outputs": [
    {
     "data": {
      "text/plain": [
       "3.3333333333333335"
      ]
     },
     "execution_count": 2,
     "metadata": {},
     "output_type": "execute_result"
    }
   ],
   "source": [
    "#Now, a short code to convert 200 minutes to hours:\n",
    "200/60"
   ]
  },
  {
   "cell_type": "markdown",
   "id": "833aa107",
   "metadata": {},
   "source": [
    "## Author\n",
    "Emiliano Pedraza"
   ]
  }
 ],
 "metadata": {
  "kernelspec": {
   "display_name": "Python 3 (ipykernel)",
   "language": "python",
   "name": "python3"
  },
  "language_info": {
   "codemirror_mode": {
    "name": "ipython",
    "version": 3
   },
   "file_extension": ".py",
   "mimetype": "text/x-python",
   "name": "python",
   "nbconvert_exporter": "python",
   "pygments_lexer": "ipython3",
   "version": "3.11.5"
  }
 },
 "nbformat": 4,
 "nbformat_minor": 5
}
